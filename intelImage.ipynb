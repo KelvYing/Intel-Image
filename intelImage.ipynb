{
 "cells": [
  {
   "cell_type": "code",
   "execution_count": 3,
   "metadata": {},
   "outputs": [
    {
     "name": "stdout",
     "output_type": "stream",
     "text": [
      "Requirement already satisfied: torchvision in c:\\users\\yingz\\anaconda3\\lib\\site-packages (0.18.0+cu118)\n",
      "Requirement already satisfied: numpy in c:\\users\\yingz\\anaconda3\\lib\\site-packages (from torchvision) (1.26.4)\n",
      "Requirement already satisfied: torch==2.3.0+cu118 in c:\\users\\yingz\\anaconda3\\lib\\site-packages (from torchvision) (2.3.0+cu118)\n",
      "Requirement already satisfied: pillow!=8.3.*,>=5.3.0 in c:\\users\\yingz\\anaconda3\\lib\\site-packages (from torchvision) (10.2.0)\n",
      "Requirement already satisfied: filelock in c:\\users\\yingz\\anaconda3\\lib\\site-packages (from torch==2.3.0+cu118->torchvision) (3.13.1)\n",
      "Requirement already satisfied: typing-extensions>=4.8.0 in c:\\users\\yingz\\anaconda3\\lib\\site-packages (from torch==2.3.0+cu118->torchvision) (4.9.0)\n",
      "Requirement already satisfied: sympy in c:\\users\\yingz\\anaconda3\\lib\\site-packages (from torch==2.3.0+cu118->torchvision) (1.12)\n",
      "Requirement already satisfied: networkx in c:\\users\\yingz\\anaconda3\\lib\\site-packages (from torch==2.3.0+cu118->torchvision) (3.1)\n",
      "Requirement already satisfied: jinja2 in c:\\users\\yingz\\anaconda3\\lib\\site-packages (from torch==2.3.0+cu118->torchvision) (3.1.3)\n",
      "Requirement already satisfied: fsspec in c:\\users\\yingz\\anaconda3\\lib\\site-packages (from torch==2.3.0+cu118->torchvision) (2023.10.0)\n",
      "Requirement already satisfied: mkl<=2021.4.0,>=2021.1.1 in c:\\users\\yingz\\anaconda3\\lib\\site-packages (from torch==2.3.0+cu118->torchvision) (2021.4.0)\n",
      "Requirement already satisfied: intel-openmp==2021.* in c:\\users\\yingz\\anaconda3\\lib\\site-packages (from mkl<=2021.4.0,>=2021.1.1->torch==2.3.0+cu118->torchvision) (2021.4.0)\n",
      "Requirement already satisfied: tbb==2021.* in c:\\users\\yingz\\anaconda3\\lib\\site-packages (from mkl<=2021.4.0,>=2021.1.1->torch==2.3.0+cu118->torchvision) (2021.11.0)\n",
      "Requirement already satisfied: MarkupSafe>=2.0 in c:\\users\\yingz\\anaconda3\\lib\\site-packages (from jinja2->torch==2.3.0+cu118->torchvision) (2.1.3)\n",
      "Requirement already satisfied: mpmath>=0.19 in c:\\users\\yingz\\anaconda3\\lib\\site-packages (from sympy->torch==2.3.0+cu118->torchvision) (1.3.0)\n",
      "Note: you may need to restart the kernel to use updated packages.\n"
     ]
    }
   ],
   "source": [
    "pip install torchvision"
   ]
  }
 ],
 "metadata": {
  "kernelspec": {
   "display_name": "base",
   "language": "python",
   "name": "python3"
  },
  "language_info": {
   "codemirror_mode": {
    "name": "ipython",
    "version": 3
   },
   "file_extension": ".py",
   "mimetype": "text/x-python",
   "name": "python",
   "nbconvert_exporter": "python",
   "pygments_lexer": "ipython3",
   "version": "3.11.7"
  }
 },
 "nbformat": 4,
 "nbformat_minor": 2
}
